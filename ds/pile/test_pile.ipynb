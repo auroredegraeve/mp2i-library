{
 "cells": [
  {
   "cell_type": "code",
   "execution_count": 1,
   "id": "3bd5904e-952e-4ff5-aa0d-1650365879ca",
   "metadata": {},
   "outputs": [
    {
     "name": "stdout",
     "output_type": "stream",
     "text": [
      "type 'a stack_imperative = {\n",
      "  empty : unit -> bool;\n",
      "  push : 'a -> unit;\n",
      "  pop : unit -> 'a;\n",
      "}\n",
      "val stack_of_array : 'a array -> 'a stack_imperative = <fun>\n",
      "val stack_to_list : 'a stack_imperative -> 'a list = <fun>\n"
     ]
    }
   ],
   "source": [
    "#use \"pile.ml\""
   ]
  },
  {
   "cell_type": "code",
   "execution_count": 2,
   "id": "0737aec4-0f44-455e-90d2-d723bc30e50a",
   "metadata": {},
   "outputs": [
    {
     "data": {
      "text/plain": [
       "val s : int stack_imperative = {empty = <fun>; push = <fun>; pop = <fun>}\n"
      ]
     },
     "execution_count": 2,
     "metadata": {},
     "output_type": "execute_result"
    }
   ],
   "source": [
    "let s = stack_of_array (Array.make 10 0);;"
   ]
  },
  {
   "cell_type": "code",
   "execution_count": 3,
   "id": "08790728-117a-4999-8c31-bd2c924cb325",
   "metadata": {},
   "outputs": [
    {
     "data": {
      "text/plain": [
       "- : unit = ()\n"
      ]
     },
     "execution_count": 3,
     "metadata": {},
     "output_type": "execute_result"
    }
   ],
   "source": [
    "for i = 0 to 4 do \n",
    "  s.push (2*i)\n",
    "done"
   ]
  },
  {
   "cell_type": "code",
   "execution_count": 4,
   "id": "ab8f6246-9343-4e83-820d-81c6979e47d9",
   "metadata": {},
   "outputs": [
    {
     "data": {
      "text/plain": [
       "- : int = 8\n"
      ]
     },
     "execution_count": 4,
     "metadata": {},
     "output_type": "execute_result"
    }
   ],
   "source": [
    "s.pop()"
   ]
  },
  {
   "cell_type": "code",
   "execution_count": 5,
   "id": "1c0c9af9-6713-4e24-848c-25a0e3cec5d3",
   "metadata": {},
   "outputs": [
    {
     "data": {
      "text/plain": [
       "- : int list = [0; 2; 4; 6]\n"
      ]
     },
     "execution_count": 5,
     "metadata": {},
     "output_type": "execute_result"
    }
   ],
   "source": [
    "stack_to_list s"
   ]
  },
  {
   "cell_type": "code",
   "execution_count": 6,
   "id": "e2abef59-ea5b-4277-b675-fbc10bb71a85",
   "metadata": {},
   "outputs": [
    {
     "data": {
      "text/plain": [
       "- : int list = [0; 2; 4; 6]\n"
      ]
     },
     "execution_count": 6,
     "metadata": {},
     "output_type": "execute_result"
    }
   ],
   "source": [
    "stack_to_list s (* les éléments dans s sont encore là *)"
   ]
  }
 ],
 "metadata": {
  "kernelspec": {
   "display_name": "OCaml default",
   "language": "OCaml",
   "name": "ocaml-jupyter"
  },
  "language_info": {
   "codemirror_mode": "text/x-ocaml",
   "file_extension": ".ml",
   "mimetype": "text/x-ocaml",
   "name": "OCaml",
   "nbconverter_exporter": null,
   "pygments_lexer": "OCaml",
   "version": "4.08.1"
  }
 },
 "nbformat": 4,
 "nbformat_minor": 5
}
