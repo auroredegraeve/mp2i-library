{
 "cells": [
  {
   "cell_type": "code",
   "execution_count": 2,
   "id": "d5928975-736b-4717-9e78-75ba867b272a",
   "metadata": {},
   "outputs": [
    {
     "name": "stdout",
     "output_type": "stream",
     "text": [
      "val exp_rapide : int -> int -> int = <fun>\n"
     ]
    }
   ],
   "source": [
    "#use \"exp_rapide.ml\""
   ]
  },
  {
   "cell_type": "code",
   "execution_count": 3,
   "id": "94187710-e0b5-4728-82a2-fe996ea659c9",
   "metadata": {},
   "outputs": [
    {
     "data": {
      "text/plain": [
       "- : int = 13824\n"
      ]
     },
     "execution_count": 3,
     "metadata": {},
     "output_type": "execute_result"
    }
   ],
   "source": [
    "exp_rapide 24 3"
   ]
  },
  {
   "cell_type": "code",
   "execution_count": 4,
   "id": "30f5af4a-4aec-404c-bc74-3838de23f4ca",
   "metadata": {},
   "outputs": [
    {
     "data": {
      "text/plain": [
       "- : int = 16\n"
      ]
     },
     "execution_count": 4,
     "metadata": {},
     "output_type": "execute_result"
    }
   ],
   "source": [
    "exp_rapide 2 4"
   ]
  }
 ],
 "metadata": {
  "kernelspec": {
   "display_name": "OCaml default",
   "language": "OCaml",
   "name": "ocaml-jupyter"
  },
  "language_info": {
   "codemirror_mode": "text/x-ocaml",
   "file_extension": ".ml",
   "mimetype": "text/x-ocaml",
   "name": "OCaml",
   "nbconverter_exporter": null,
   "pygments_lexer": "OCaml",
   "version": "4.08.1"
  }
 },
 "nbformat": 4,
 "nbformat_minor": 5
}
