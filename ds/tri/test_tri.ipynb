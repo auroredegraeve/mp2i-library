{
 "cells": [
  {
   "cell_type": "code",
   "execution_count": 1,
   "id": "e3b984ef-1e3b-43d2-9192-ea0618899d7f",
   "metadata": {},
   "outputs": [
    {
     "name": "stdout",
     "output_type": "stream",
     "text": [
      "val fusion : 'a list -> 'a list -> 'a list = <fun>\n",
      "val partition : 'a list -> 'a -> 'a list * 'a list = <fun>\n",
      "val quicksort : 'a list -> 'a list = <fun>\n"
     ]
    }
   ],
   "source": [
    "#use \"tri.ml\""
   ]
  },
  {
   "cell_type": "code",
   "execution_count": 3,
   "id": "88cc6348-7d91-467e-969b-1837a2bca76e",
   "metadata": {},
   "outputs": [
    {
     "data": {
      "text/plain": [
       "- : int list = [-1; 2; 3; 4; 6; 7]\n"
      ]
     },
     "execution_count": 3,
     "metadata": {},
     "output_type": "execute_result"
    }
   ],
   "source": [
    "fusion [-1; 3; 4; 7] [2; 6]"
   ]
  },
  {
   "cell_type": "code",
   "execution_count": 4,
   "id": "53e04f7e-6b7c-4129-88c1-eecb0ab1937e",
   "metadata": {},
   "outputs": [
    {
     "data": {
      "text/plain": [
       "- : int list = [-9; 1; 2; 5]\n"
      ]
     },
     "execution_count": 4,
     "metadata": {},
     "output_type": "execute_result"
    }
   ],
   "source": [
    "quicksort [5; 2; -9; 1]"
   ]
  }
 ],
 "metadata": {
  "kernelspec": {
   "display_name": "OCaml default",
   "language": "OCaml",
   "name": "ocaml-jupyter"
  },
  "language_info": {
   "codemirror_mode": "text/x-ocaml",
   "file_extension": ".ml",
   "mimetype": "text/x-ocaml",
   "name": "OCaml",
   "nbconverter_exporter": null,
   "pygments_lexer": "OCaml",
   "version": "4.08.1"
  }
 },
 "nbformat": 4,
 "nbformat_minor": 5
}
