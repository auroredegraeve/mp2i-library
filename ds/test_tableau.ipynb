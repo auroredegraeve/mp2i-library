{
 "cells": [
  {
   "cell_type": "code",
   "execution_count": 1,
   "id": "7d7644ce-f30a-425f-9904-91ec52c3be56",
   "metadata": {},
   "outputs": [
    {
     "name": "stdout",
     "output_type": "stream",
     "text": [
      "val swap : 'a array -> int -> int -> 'a array = <fun>\n",
      "val somme : int array -> int = <fun>\n",
      "val minimum : 'a array -> 'a = <fun>\n",
      "val maximum : 'a array -> 'a = <fun>\n",
      "val list_of_array : 'a array -> 'a list = <fun>\n",
      "val croissant : 'a array -> bool = <fun>\n",
      "val tranche_max : int array -> int = <fun>\n",
      "val tricho : 'a array -> 'a -> bool = <fun>\n"
     ]
    }
   ],
   "source": [
    "#use \"tableau.ml\""
   ]
  },
  {
   "cell_type": "code",
   "execution_count": 2,
   "id": "4d5d908e-2643-41ca-8c5a-ec9b538e11e2",
   "metadata": {},
   "outputs": [
    {
     "data": {
      "text/plain": [
       "- : int array = [|3; 7; 1|]\n"
      ]
     },
     "execution_count": 2,
     "metadata": {},
     "output_type": "execute_result"
    }
   ],
   "source": [
    "swap [|3; 1; 7|] 2 1"
   ]
  },
  {
   "cell_type": "code",
   "execution_count": 3,
   "id": "eedfb78a-38df-4978-ae6f-acb52ae09139",
   "metadata": {},
   "outputs": [
    {
     "data": {
      "text/plain": [
       "- : int = 11\n"
      ]
     },
     "execution_count": 3,
     "metadata": {},
     "output_type": "execute_result"
    }
   ],
   "source": [
    "somme [|3; 1; 7|]"
   ]
  },
  {
   "cell_type": "code",
   "execution_count": 4,
   "id": "f637ed10-4c65-402e-8e59-e69666e8239c",
   "metadata": {},
   "outputs": [
    {
     "data": {
      "text/plain": [
       "- : int = 1\n"
      ]
     },
     "execution_count": 4,
     "metadata": {},
     "output_type": "execute_result"
    }
   ],
   "source": [
    "minimum [|3; 1; 7|]"
   ]
  },
  {
   "cell_type": "code",
   "execution_count": 5,
   "id": "4e5b3da5-9330-43cd-b2e8-63739d52f155",
   "metadata": {},
   "outputs": [
    {
     "data": {
      "text/plain": [
       "- : int = 7\n"
      ]
     },
     "execution_count": 5,
     "metadata": {},
     "output_type": "execute_result"
    }
   ],
   "source": [
    "maximum [|3; 1; 7|]"
   ]
  },
  {
   "cell_type": "code",
   "execution_count": 6,
   "id": "22c7ddbd-f7c5-4f42-b756-a1389aedf40f",
   "metadata": {},
   "outputs": [
    {
     "data": {
      "text/plain": [
       "- : int list = [7; 1; 3]\n"
      ]
     },
     "execution_count": 6,
     "metadata": {},
     "output_type": "execute_result"
    }
   ],
   "source": [
    "list_of_array [|3; 1; 7|]"
   ]
  },
  {
   "cell_type": "code",
   "execution_count": 7,
   "id": "443393bc-f922-45d8-96a8-2dfb02b6998f",
   "metadata": {},
   "outputs": [
    {
     "data": {
      "text/plain": [
       "- : bool = false\n"
      ]
     },
     "execution_count": 7,
     "metadata": {},
     "output_type": "execute_result"
    }
   ],
   "source": [
    "croissant [|3; 1; 7|]"
   ]
  },
  {
   "cell_type": "code",
   "execution_count": 8,
   "id": "c250898d-4d71-4d60-8d5e-6a5eed13190c",
   "metadata": {},
   "outputs": [
    {
     "data": {
      "text/plain": [
       "- : bool = true\n"
      ]
     },
     "execution_count": 8,
     "metadata": {},
     "output_type": "execute_result"
    }
   ],
   "source": [
    "croissant [|0; 1; 7|]"
   ]
  },
  {
   "cell_type": "code",
   "execution_count": 9,
   "id": "a43b2c64-eac0-477b-adda-aa7db3698946",
   "metadata": {},
   "outputs": [
    {
     "data": {
      "text/plain": [
       "- : int = 8\n"
      ]
     },
     "execution_count": 9,
     "metadata": {},
     "output_type": "execute_result"
    }
   ],
   "source": [
    "tranche_max [|3; -6; 1; 7|]"
   ]
  },
  {
   "cell_type": "code",
   "execution_count": 10,
   "id": "68797a70-a55e-4148-afc1-367ef7f691cc",
   "metadata": {},
   "outputs": [
    {
     "data": {
      "text/plain": [
       "- : bool = true\n"
      ]
     },
     "execution_count": 10,
     "metadata": {},
     "output_type": "execute_result"
    }
   ],
   "source": [
    "tricho [|3; 1; 7; 12; -2|] 1"
   ]
  },
  {
   "cell_type": "code",
   "execution_count": 11,
   "id": "2875e9fd-2682-46e8-9813-d8b4a022337b",
   "metadata": {},
   "outputs": [
    {
     "data": {
      "text/plain": [
       "- : bool = false\n"
      ]
     },
     "execution_count": 11,
     "metadata": {},
     "output_type": "execute_result"
    }
   ],
   "source": [
    "tricho [|3; 1; 14; 7|] 2"
   ]
  }
 ],
 "metadata": {
  "kernelspec": {
   "display_name": "OCaml default",
   "language": "OCaml",
   "name": "ocaml-jupyter"
  },
  "language_info": {
   "codemirror_mode": "text/x-ocaml",
   "file_extension": ".ml",
   "mimetype": "text/x-ocaml",
   "name": "OCaml",
   "nbconverter_exporter": null,
   "pygments_lexer": "OCaml",
   "version": "4.08.1"
  }
 },
 "nbformat": 4,
 "nbformat_minor": 5
}
