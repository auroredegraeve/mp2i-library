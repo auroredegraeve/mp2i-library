{
 "cells": [
  {
   "cell_type": "code",
   "execution_count": 2,
   "id": "68ab56e5-6c37-48df-a2a7-faf0ad916bd5",
   "metadata": {},
   "outputs": [
    {
     "name": "stdout",
     "output_type": "stream",
     "text": [
      "val dicho : 'a array -> 'a -> bool = <fun>\n",
      "val tricho : 'a array -> 'a -> bool = <fun>\n"
     ]
    }
   ],
   "source": [
    "#use \"recherche.ml\""
   ]
  },
  {
   "cell_type": "code",
   "execution_count": 3,
   "id": "d9e14ceb-03c6-4264-bc1b-8892f2c647ff",
   "metadata": {},
   "outputs": [
    {
     "data": {
      "text/plain": [
       "- : bool = true\n"
      ]
     },
     "execution_count": 3,
     "metadata": {},
     "output_type": "execute_result"
    }
   ],
   "source": [
    "dicho [|2; 7; -1; 0; 3|] 0"
   ]
  },
  {
   "cell_type": "code",
   "execution_count": 4,
   "id": "526323ba-4997-4001-b606-7720625ceedb",
   "metadata": {},
   "outputs": [
    {
     "data": {
      "text/plain": [
       "- : bool = false\n"
      ]
     },
     "execution_count": 4,
     "metadata": {},
     "output_type": "execute_result"
    }
   ],
   "source": [
    "dicho [|2; 7; -1; 0; 3|] 1"
   ]
  },
  {
   "cell_type": "code",
   "execution_count": 5,
   "id": "9941cc20-5eef-4bf3-bcb7-e3fef9a25bd9",
   "metadata": {},
   "outputs": [
    {
     "data": {
      "text/plain": [
       "- : bool = true\n"
      ]
     },
     "execution_count": 5,
     "metadata": {},
     "output_type": "execute_result"
    }
   ],
   "source": [
    "tricho [|2; 7; -1; 0; 3|] 0"
   ]
  },
  {
   "cell_type": "code",
   "execution_count": 6,
   "id": "5dc1a53e-7bb8-43eb-88d5-4f6c598029a4",
   "metadata": {},
   "outputs": [
    {
     "data": {
      "text/plain": [
       "- : bool = false\n"
      ]
     },
     "execution_count": 6,
     "metadata": {},
     "output_type": "execute_result"
    }
   ],
   "source": [
    "tricho [|2; 7; -1; 0; 3|] 1"
   ]
  }
 ],
 "metadata": {
  "kernelspec": {
   "display_name": "OCaml default",
   "language": "OCaml",
   "name": "ocaml-jupyter"
  },
  "language_info": {
   "codemirror_mode": "text/x-ocaml",
   "file_extension": ".ml",
   "mimetype": "text/x-ocaml",
   "name": "OCaml",
   "nbconverter_exporter": null,
   "pygments_lexer": "OCaml",
   "version": "4.08.1"
  }
 },
 "nbformat": 4,
 "nbformat_minor": 5
}
