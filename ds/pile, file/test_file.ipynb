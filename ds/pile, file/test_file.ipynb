{
 "cells": [
  {
   "cell_type": "code",
   "execution_count": 1,
   "id": "738a7b98-0046-49ba-9726-c13824839f9e",
   "metadata": {},
   "outputs": [
    {
     "name": "stdout",
     "output_type": "stream",
     "text": [
      "type 'a queue_2lists = { l1 : 'a list; l2 : 'a list; }\n",
      "val queue_empty : 'a queue_2lists -> bool = <fun>\n",
      "val queue_add : 'a queue_2lists -> 'a -> 'a queue_2lists = <fun>\n",
      "val queue_pop : 'a queue_2lists -> 'a * 'a queue_2lists = <fun>\n"
     ]
    }
   ],
   "source": [
    "#use \"file.ml\""
   ]
  },
  {
   "cell_type": "code",
   "execution_count": 10,
   "id": "7032a3c4-0dfd-4605-a1bc-17aaadba9a51",
   "metadata": {},
   "outputs": [
    {
     "data": {
      "text/plain": [
       "val s : int queue_2lists = {l1 = []; l2 = [2; 5; 1]}\n"
      ]
     },
     "execution_count": 10,
     "metadata": {},
     "output_type": "execute_result"
    }
   ],
   "source": [
    "let s = {l1 = []; l2 = [2; 5; 1]}"
   ]
  },
  {
   "cell_type": "code",
   "execution_count": 11,
   "id": "a24d66a0-89fd-49d8-8068-cbc58a784245",
   "metadata": {},
   "outputs": [
    {
     "data": {
      "text/plain": [
       "- : bool = false\n"
      ]
     },
     "execution_count": 11,
     "metadata": {},
     "output_type": "execute_result"
    }
   ],
   "source": [
    "queue_empty s"
   ]
  },
  {
   "cell_type": "code",
   "execution_count": 12,
   "id": "5441b4c4-1c2f-4b7e-823f-c1f0e2132515",
   "metadata": {},
   "outputs": [
    {
     "data": {
      "text/plain": [
       "- : int queue_2lists = {l1 = [9]; l2 = [2; 5; 1]}\n"
      ]
     },
     "execution_count": 12,
     "metadata": {},
     "output_type": "execute_result"
    }
   ],
   "source": [
    "queue_add s 9"
   ]
  },
  {
   "cell_type": "code",
   "execution_count": 13,
   "id": "ac0aae04-7ad3-4c54-aea1-fa83f8367b2a",
   "metadata": {},
   "outputs": [
    {
     "data": {
      "text/plain": [
       "- : int * int queue_2lists = (1, {l1 = [5; 2]; l2 = []})\n"
      ]
     },
     "execution_count": 13,
     "metadata": {},
     "output_type": "execute_result"
    }
   ],
   "source": [
    "queue_pop s"
   ]
  }
 ],
 "metadata": {
  "kernelspec": {
   "display_name": "OCaml default",
   "language": "OCaml",
   "name": "ocaml-jupyter"
  },
  "language_info": {
   "codemirror_mode": "text/x-ocaml",
   "file_extension": ".ml",
   "mimetype": "text/x-ocaml",
   "name": "OCaml",
   "nbconverter_exporter": null,
   "pygments_lexer": "OCaml",
   "version": "4.08.1"
  }
 },
 "nbformat": 4,
 "nbformat_minor": 5
}
