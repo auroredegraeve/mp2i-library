{
 "cells": [
  {
   "cell_type": "code",
   "execution_count": 1,
   "id": "49bc7838-d221-4b68-a7a6-c8a9ecc44faa",
   "metadata": {},
   "outputs": [
    {
     "name": "stdout",
     "output_type": "stream",
     "text": [
      "type 'a array_dyn = { mutable t : 'a array; mutable n : int; }\n",
      "val copy : 'a array -> 'a array -> unit = <fun>\n",
      "val add : 'a -> 'a array_dyn -> unit = <fun>\n"
     ]
    }
   ],
   "source": [
    "#use \"tab_dynamique.ml\""
   ]
  },
  {
   "cell_type": "code",
   "execution_count": 2,
   "id": "bb60c2fa-316c-455e-86b2-beb88ec53da9",
   "metadata": {},
   "outputs": [
    {
     "data": {
      "text/plain": [
       "val d : '_weak1 array_dyn = {t = [||]; n = 0}\n"
      ]
     },
     "execution_count": 2,
     "metadata": {},
     "output_type": "execute_result"
    },
    {
     "data": {
      "text/plain": [
       "- : int array_dyn =\n",
       "{t = [|0; 1; 2; 3; 4; 5; 6; 7; 8; 9; 10; 0; 0; 0; 0; 0|]; n = 11}\n"
      ]
     },
     "execution_count": 2,
     "metadata": {},
     "output_type": "execute_result"
    }
   ],
   "source": [
    "let d = {t = [||]; n = 0};;\n",
    "    for i = 0 to 10 do\n",
    "        add i d\n",
    "    done;\n",
    "    d;;"
   ]
  }
 ],
 "metadata": {
  "kernelspec": {
   "display_name": "OCaml default",
   "language": "OCaml",
   "name": "ocaml-jupyter"
  },
  "language_info": {
   "codemirror_mode": "text/x-ocaml",
   "file_extension": ".ml",
   "mimetype": "text/x-ocaml",
   "name": "OCaml",
   "nbconverter_exporter": null,
   "pygments_lexer": "OCaml",
   "version": "4.08.1"
  }
 },
 "nbformat": 4,
 "nbformat_minor": 5
}
