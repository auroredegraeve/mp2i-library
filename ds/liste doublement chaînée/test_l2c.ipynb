{
 "cells": [
  {
   "cell_type": "code",
   "execution_count": 1,
   "id": "670d0ea9-6ded-48f0-9f36-bf16a713c9e1",
   "metadata": {},
   "outputs": [
    {
     "name": "stdout",
     "output_type": "stream",
     "text": [
      "type 'a l2c = { elem : 'a; mutable prev : 'a l2c; mutable next : 'a l2c; }\n",
      "val create : 'a -> 'a l2c = <fun>\n",
      "val add : 'a l2c -> 'a -> unit = <fun>\n",
      "val del : 'a l2c -> unit = <fun>\n",
      "val length : 'a l2c -> int = <fun>\n",
      "val mem : 'a -> 'a l2c -> bool = <fun>\n",
      "val fusion : 'a l2c -> 'a l2c -> 'a l2c = <fun>\n"
     ]
    }
   ],
   "source": [
    "#use \"l2c.ml\""
   ]
  },
  {
   "cell_type": "code",
   "execution_count": 2,
   "id": "a8484256-2866-4190-b607-5a88f044ecf1",
   "metadata": {},
   "outputs": [
    {
     "data": {
      "text/plain": [
       "val l : int l2c = {elem = 3; prev = <cycle>; next = <cycle>}\n"
      ]
     },
     "execution_count": 2,
     "metadata": {},
     "output_type": "execute_result"
    }
   ],
   "source": [
    "let l = create 3"
   ]
  },
  {
   "cell_type": "code",
   "execution_count": 3,
   "id": "225680c1-3c60-4756-8d35-2d2045f294a0",
   "metadata": {},
   "outputs": [
    {
     "data": {
      "text/plain": [
       "- : unit = ()\n"
      ]
     },
     "execution_count": 3,
     "metadata": {},
     "output_type": "execute_result"
    }
   ],
   "source": [
    "add l 4"
   ]
  },
  {
   "cell_type": "code",
   "execution_count": 4,
   "id": "b0eeb6c6-1ae1-4cd4-93fa-cf78c9b1239f",
   "metadata": {},
   "outputs": [
    {
     "data": {
      "text/plain": [
       "- : int l2c =\n",
       "{elem = 3; prev = {elem = 4; prev = <cycle>; next = <cycle>};\n",
       " next = {elem = 4; prev = <cycle>; next = <cycle>}}\n"
      ]
     },
     "execution_count": 4,
     "metadata": {},
     "output_type": "execute_result"
    }
   ],
   "source": [
    "l"
   ]
  },
  {
   "cell_type": "code",
   "execution_count": 5,
   "id": "e15686b9-649e-49ee-813a-8c5cfae9f73a",
   "metadata": {},
   "outputs": [
    {
     "data": {
      "text/plain": [
       "- : unit = ()\n"
      ]
     },
     "execution_count": 5,
     "metadata": {},
     "output_type": "execute_result"
    }
   ],
   "source": [
    "add l 9"
   ]
  },
  {
   "cell_type": "code",
   "execution_count": 6,
   "id": "5bdeb938-6e43-483b-bf3f-17046749166e",
   "metadata": {},
   "outputs": [
    {
     "data": {
      "text/plain": [
       "- : int l2c =\n",
       "{elem = 3;\n",
       " prev =\n",
       "  {elem = 4; prev = {elem = 9; prev = <cycle>; next = <cycle>};\n",
       "   next = <cycle>};\n",
       " next =\n",
       "  {elem = 9; prev = <cycle>;\n",
       "   next = {elem = 4; prev = <cycle>; next = <cycle>}}}\n"
      ]
     },
     "execution_count": 6,
     "metadata": {},
     "output_type": "execute_result"
    }
   ],
   "source": [
    "l"
   ]
  },
  {
   "cell_type": "code",
   "execution_count": 7,
   "id": "9fc0027c-2c9e-4be3-9f1e-b18667272128",
   "metadata": {},
   "outputs": [
    {
     "data": {
      "text/plain": [
       "- : unit = ()\n"
      ]
     },
     "execution_count": 7,
     "metadata": {},
     "output_type": "execute_result"
    }
   ],
   "source": [
    "del l.prev"
   ]
  },
  {
   "cell_type": "code",
   "execution_count": 8,
   "id": "7488203c-e716-44ad-852b-c26bf2c8432c",
   "metadata": {},
   "outputs": [
    {
     "data": {
      "text/plain": [
       "- : int l2c =\n",
       "{elem = 3; prev = {elem = 9; prev = <cycle>; next = <cycle>};\n",
       " next = {elem = 9; prev = <cycle>; next = <cycle>}}\n"
      ]
     },
     "execution_count": 8,
     "metadata": {},
     "output_type": "execute_result"
    }
   ],
   "source": [
    "l"
   ]
  },
  {
   "cell_type": "code",
   "execution_count": 9,
   "id": "81f75ff1-2967-4922-a81c-8402ae541f46",
   "metadata": {},
   "outputs": [
    {
     "data": {
      "text/plain": [
       "- : int = 2\n"
      ]
     },
     "execution_count": 9,
     "metadata": {},
     "output_type": "execute_result"
    }
   ],
   "source": [
    "length l"
   ]
  },
  {
   "cell_type": "code",
   "execution_count": 10,
   "id": "19ab715e-032a-426a-bc61-62fff05835d1",
   "metadata": {},
   "outputs": [
    {
     "data": {
      "text/plain": [
       "- : bool = false\n"
      ]
     },
     "execution_count": 10,
     "metadata": {},
     "output_type": "execute_result"
    }
   ],
   "source": [
    "mem 1 l"
   ]
  },
  {
   "cell_type": "code",
   "execution_count": 11,
   "id": "01700834-15d9-484b-8752-b5153f6fb8c2",
   "metadata": {},
   "outputs": [
    {
     "data": {
      "text/plain": [
       "- : bool = true\n"
      ]
     },
     "execution_count": 11,
     "metadata": {},
     "output_type": "execute_result"
    }
   ],
   "source": [
    "mem 9 l"
   ]
  },
  {
   "cell_type": "code",
   "execution_count": 12,
   "id": "40d8a9f5-2138-4b97-9a83-2b0663320891",
   "metadata": {},
   "outputs": [
    {
     "data": {
      "text/plain": [
       "val k : int l2c = {elem = 6; prev = <cycle>; next = <cycle>}\n"
      ]
     },
     "execution_count": 12,
     "metadata": {},
     "output_type": "execute_result"
    }
   ],
   "source": [
    "let k = create 6"
   ]
  },
  {
   "cell_type": "code",
   "execution_count": 54,
   "id": "915e6f30-968c-40f0-a3c6-f3dfcd059424",
   "metadata": {},
   "outputs": [
    {
     "data": {
      "text/plain": [
       "- : int l2c =\n",
       "{elem = 9;\n",
       " prev =\n",
       "  {elem = 6; prev = {elem = 3; prev = <cycle>; next = <cycle>};\n",
       "   next = <cycle>};\n",
       " next =\n",
       "  {elem = 3; prev = <cycle>;\n",
       "   next = {elem = 6; prev = <cycle>; next = <cycle>}}}\n"
      ]
     },
     "execution_count": 54,
     "metadata": {},
     "output_type": "execute_result"
    }
   ],
   "source": [
    "fusion l k"
   ]
  }
 ],
 "metadata": {
  "kernelspec": {
   "display_name": "OCaml default",
   "language": "OCaml",
   "name": "ocaml-jupyter"
  },
  "language_info": {
   "codemirror_mode": "text/x-ocaml",
   "file_extension": ".ml",
   "mimetype": "text/x-ocaml",
   "name": "OCaml",
   "nbconverter_exporter": null,
   "pygments_lexer": "OCaml",
   "version": "4.08.1"
  }
 },
 "nbformat": 4,
 "nbformat_minor": 5
}
